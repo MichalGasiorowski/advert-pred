{
 "cells": [
  {
   "cell_type": "code",
   "execution_count": null,
   "id": "proper-edwards",
   "metadata": {},
   "outputs": [],
   "source": [
    "# Install tfx and kfp Python packages.\n",
    "import sys\n",
    "#!{sys.executable} -m pip install --user --upgrade -q tfx==0.23.0\n",
    "#!{sys.executable} -m pip install --user --upgrade -q kfp==1.0.0\n",
    "\n",
    "!{sys.executable} -m pip install --user -q -U -v --log /tmp/pip.log --use-feature=2020-resolver tfx==0.24.0\n",
    "!{sys.executable} -m pip install --user -q -U -v --log /tmp/pip.log --use-feature=2020-resolver kfp==1.0.0\n",
    "# Download skaffold and set it executable.\n",
    "!curl -Lo skaffold https://storage.googleapis.com/skaffold/releases/latest/skaffold-linux-amd64 && chmod +x skaffold && mv skaffold /home/jupyter/.local/bin/\n",
    "    "
   ]
  },
  {
   "cell_type": "markdown",
   "id": "bound-frederick",
   "metadata": {},
   "source": [
    "Skaffold is a command line tool that facilitates continuous development for Kubernetes applications.\n",
    "\n",
    "It helps us easily manage and handle workflows for building, pushing, and deploying applications. \n",
    "\n",
    "You’ll get to understand the use of Skaffold later. "
   ]
  },
  {
   "cell_type": "code",
   "execution_count": null,
   "id": "secret-season",
   "metadata": {},
   "outputs": [],
   "source": [
    "!python3 -c \"import tfx; print('TFX version: {}'.format(tfx.__version__))\""
   ]
  },
  {
   "cell_type": "code",
   "execution_count": null,
   "id": "unlike-heavy",
   "metadata": {},
   "outputs": [],
   "source": [
    "# Set `PATH` to include user python binary directory and a directory containing `skaffold`.\n",
    "PATH=%env PATH\n",
    "%env PATH={PATH}:/home/jupyter/.local/bin"
   ]
  },
  {
   "cell_type": "code",
   "execution_count": null,
   "id": "pregnant-bridal",
   "metadata": {},
   "outputs": [],
   "source": [
    "# Read GCP project id from env.\n",
    "shell_output=!gcloud config list --format 'value(core.project)' 2>/dev/null\n",
    "GOOGLE_CLOUD_PROJECT=shell_output[0]\n",
    "%env GOOGLE_CLOUD_PROJECT={GOOGLE_CLOUD_PROJECT}\n",
    "print(\"GCP project ID:\" + GOOGLE_CLOUD_PROJECT)"
   ]
  },
  {
   "cell_type": "code",
   "execution_count": null,
   "id": "loved-typing",
   "metadata": {},
   "outputs": [],
   "source": [
    "ENDPOINT='https://6ce118f4a72b5e60-dot-us-west1.pipelines.googleusercontent.com'\n"
   ]
  },
  {
   "cell_type": "markdown",
   "id": "facial-bangkok",
   "metadata": {},
   "source": [
    "Next, you’ll create a Docker name which will be used by Skaffold in bundling your pipeline. \n",
    "\n"
   ]
  },
  {
   "cell_type": "code",
   "execution_count": null,
   "id": "civilian-baseball",
   "metadata": {},
   "outputs": [],
   "source": [
    "CUSTOM_TFX_IMAGE='gcr.io/' + GOOGLE_CLOUD_PROJECT + '/advert-pred-pipeline'"
   ]
  },
  {
   "cell_type": "code",
   "execution_count": null,
   "id": "engaged-adelaide",
   "metadata": {},
   "outputs": [],
   "source": [
    "import os\n",
    "#set base path and working directory\n",
    "#BASE_PATH = str(os.path.join(os.getcwd(), 'advert-pred'))\n",
    "BASE_PATH = str(os.getcwd())\n",
    "%cd {BASE_PATH}"
   ]
  },
  {
   "cell_type": "markdown",
   "id": "direct-origin",
   "metadata": {},
   "source": [
    "EXPERIMENTATION ANALYSIS\n"
   ]
  },
  {
   "cell_type": "code",
   "execution_count": null,
   "id": "southeast-buddy",
   "metadata": {},
   "outputs": [],
   "source": [
    "import os\n",
    "import pprint\n",
    "import absl\n",
    "import tensorflow as tf\n",
    "import tensorflow_model_analysis as tfma\n",
    "tf.get_logger().propagate = False\n",
    "pp = pprint.PrettyPrinter()\n",
    "import tfx\n",
    "from tfx.components import CsvExampleGen\n",
    "from tfx.components import Evaluator\n",
    "from tfx.components import ExampleValidator\n",
    "from tfx.components import Pusher\n",
    "from tfx.components import ResolverNode\n",
    "from tfx.components import SchemaGen\n",
    "from tfx.components import StatisticsGen\n",
    "from tfx.components import Trainer\n",
    "from tfx.components import Transform\n",
    "from tfx.components.base import executor_spec\n",
    "from tfx.components.trainer.executor import GenericExecutor\n",
    "from tfx.dsl.experimental import latest_blessed_model_resolver\n",
    "from tfx.orchestration import metadata\n",
    "from tfx.orchestration import pipeline\n",
    "from tfx.orchestration.experimental.interactive.interactive_context import InteractiveContext\n",
    "from tfx.proto import pusher_pb2\n",
    "from tfx.proto import trainer_pb2\n",
    "from tfx.types import Channel\n",
    "from tfx.types.standard_artifacts import Model\n",
    "from tfx.types.standard_artifacts import ModelBlessing\n",
    "from tfx.utils.dsl_utils import external_input\n",
    "%load_ext tfx.orchestration.experimental.interactive.notebook_extensions.skip"
   ]
  },
  {
   "cell_type": "code",
   "execution_count": null,
   "id": "heard-brave",
   "metadata": {},
   "outputs": [],
   "source": [
    "data_root = 'data'\n",
    "data_filepath = os.path.join(data_root, \"advertising.csv\")\n",
    "!head {data_filepath}"
   ]
  },
  {
   "cell_type": "code",
   "execution_count": null,
   "id": "interior-masters",
   "metadata": {},
   "outputs": [],
   "source": [
    "context = InteractiveContext()"
   ]
  },
  {
   "cell_type": "code",
   "execution_count": null,
   "id": "finished-basic",
   "metadata": {},
   "outputs": [],
   "source": [
    "example_gen = CsvExampleGen(input=external_input(data_root))\n",
    "context.run(example_gen)"
   ]
  },
  {
   "cell_type": "code",
   "execution_count": null,
   "id": "phantom-motion",
   "metadata": {},
   "outputs": [],
   "source": [
    "# %%skip_for_export\n",
    "\n",
    "artifact = example_gen.outputs['examples'].get()[0]\n",
    "print(artifact.split_names, artifact.uri)"
   ]
  },
  {
   "cell_type": "code",
   "execution_count": null,
   "id": "divided-growth",
   "metadata": {},
   "outputs": [],
   "source": [
    "statistics_gen = StatisticsGen(\n",
    "    examples=example_gen.outputs['examples'])\n",
    "context.run(statistics_gen)"
   ]
  },
  {
   "cell_type": "code",
   "execution_count": null,
   "id": "multiple-pizza",
   "metadata": {},
   "outputs": [],
   "source": [
    "context.show(statistics_gen.outputs['statistics'])\n"
   ]
  },
  {
   "cell_type": "code",
   "execution_count": null,
   "id": "young-observer",
   "metadata": {},
   "outputs": [],
   "source": [
    "schema_gen = SchemaGen(\n",
    "    statistics=statistics_gen.outputs['statistics'],\n",
    "    infer_feature_shape=False)\n",
    "context.run(schema_gen)\n",
    "\n",
    "context.show(schema_gen.outputs['schema'])"
   ]
  },
  {
   "cell_type": "code",
   "execution_count": null,
   "id": "tender-movement",
   "metadata": {},
   "outputs": [],
   "source": [
    "example_validator = ExampleValidator(\n",
    "    statistics=statistics_gen.outputs['statistics'],\n",
    "    schema=schema_gen.outputs['schema'])\n",
    "context.run(example_validator)\n",
    "\n",
    "context.show(example_validator.outputs['anomalies'])"
   ]
  },
  {
   "cell_type": "code",
   "execution_count": null,
   "id": "fantastic-exercise",
   "metadata": {},
   "outputs": [],
   "source": [
    "advert_transform = 'model/advert-transform.py'\n",
    "\n",
    "transform = Transform(\n",
    "    examples=example_gen.outputs['examples'],\n",
    "    schema=schema_gen.outputs['schema'],\n",
    "    module_file=advert_transform)\n",
    "\n",
    "context.run(transform)"
   ]
  },
  {
   "cell_type": "code",
   "execution_count": null,
   "id": "accepting-myanmar",
   "metadata": {},
   "outputs": [],
   "source": [
    "transform.outputs"
   ]
  },
  {
   "cell_type": "markdown",
   "id": "polyphonic-intake",
   "metadata": {},
   "source": [
    "## Trainer\n",
    "The Trainer component is used to train a model defined in Tensorflow/Keras. \n",
    "The Trainer will accept the schema, the transformed data and transformation graph, transform parameters, as well as your model definition code. "
   ]
  },
  {
   "cell_type": "code",
   "execution_count": null,
   "id": "attempted-assurance",
   "metadata": {},
   "outputs": [],
   "source": [
    "advert_trainer = 'model/advert-trainer.py'\n",
    "\n",
    "trainer = Trainer(\n",
    "    module_file=advert_trainer,\n",
    "    custom_executor_spec=executor_spec.ExecutorClassSpec(GenericExecutor),\n",
    "    examples=transform.outputs['transformed_examples'],\n",
    "    transform_graph=transform.outputs['transform_graph'],\n",
    "    schema=schema_gen.outputs['schema'],\n",
    "    train_args=trainer_pb2.TrainArgs(num_steps=1000),\n",
    "    eval_args=trainer_pb2.EvalArgs(num_steps=500))\n",
    "\n",
    "context.run(trainer)"
   ]
  },
  {
   "cell_type": "markdown",
   "id": "accessory-thumb",
   "metadata": {},
   "source": [
    "## Evaluator\n",
    "The Evaluator component computes model performance metrics in the evaluation set. It can also be used to validate any newly trained models. \n",
    "\n",
    "This is useful when you are improving and testing new models in production. To set up the Evaluator, you need to define a configuration. \n",
    "\n",
    "The configuration simply instructs the Evaluator on what metrics to report, what threshold to use in evaluating new models, and so on. See more about this here. "
   ]
  },
  {
   "cell_type": "code",
   "execution_count": null,
   "id": "growing-bosnia",
   "metadata": {},
   "outputs": [],
   "source": [
    "eval_config = tfma.EvalConfig(\n",
    "    model_specs=[tfma.ModelSpec(label_key='ClickedOnAd')],\n",
    "    metrics_specs=[\n",
    "        tfma.MetricsSpec(\n",
    "            metrics=[\n",
    "                tfma.MetricConfig(class_name='ExampleCount'),\n",
    "                tfma.MetricConfig(class_name='BinaryAccuracy',\n",
    "                  threshold=tfma.MetricThreshold(\n",
    "                      value_threshold=tfma.GenericValueThreshold(\n",
    "                          lower_bound={'value': 0.5}),\n",
    "                      change_threshold=tfma.GenericChangeThreshold(\n",
    "                          direction=tfma.MetricDirection.HIGHER_IS_BETTER,\n",
    "                          absolute={'value': -1e-10})))\n",
    "            ]\n",
    "        )\n",
    "    ])\n",
    "\n",
    "model_resolver = ResolverNode(\n",
    "      instance_name='latest_blessed_model_resolver',\n",
    "      resolver_class=latest_blessed_model_resolver.LatestBlessedModelResolver,\n",
    "      model=Channel(type=Model),\n",
    "      model_blessing=Channel(type=ModelBlessing))\n",
    "context.run(model_resolver)"
   ]
  },
  {
   "cell_type": "code",
   "execution_count": null,
   "id": "automatic-freeware",
   "metadata": {},
   "outputs": [],
   "source": [
    "evaluator = Evaluator(\n",
    "    examples=example_gen.outputs['examples'],\n",
    "    model=trainer.outputs['model'],\n",
    "    baseline_model=model_resolver.outputs['model'],\n",
    "    eval_config=eval_config)\n",
    "context.run(evaluator)"
   ]
  },
  {
   "cell_type": "code",
   "execution_count": null,
   "id": "atlantic-billy",
   "metadata": {},
   "outputs": [],
   "source": [
    "context.show(evaluator.outputs['evaluation'])\n"
   ]
  },
  {
   "cell_type": "markdown",
   "id": "aggressive-edward",
   "metadata": {},
   "source": [
    "Above, you can see the metrics reported by the Evaluator. If you train a new model, the performance is going to be compared with the baseline model, which in our case does not exist because this is our first model. \n",
    "\n",
    "Also, the Evaluator can tell us that a model is BLESSED or NOT BLESSED. A BLESSED model has successfully passed all evaluation criteria and is better than the current model. This can be then pushed and served by the Pusher component, else it throws an error. This means that you can easily automate model deployment. "
   ]
  },
  {
   "cell_type": "code",
   "execution_count": null,
   "id": "white-freeze",
   "metadata": {},
   "outputs": [],
   "source": [
    "blessing_uri = evaluator.outputs.blessing.get()[0].uri\n",
    "!ls -l {blessing_uri}"
   ]
  },
  {
   "cell_type": "markdown",
   "id": "breeding-mouth",
   "metadata": {},
   "source": [
    "Note:\n",
    "Our model is automatically blessed since it is the first model in our pipeline. If you train another model, and rerun the Evaluator pipeline, then it will be compared with the current model and it becomes BLESSED or NOT BLESSED."
   ]
  },
  {
   "cell_type": "markdown",
   "id": "collect-benefit",
   "metadata": {},
   "source": [
    "## Pusher\n",
    "The Pusher component which always comes last in the pipeline is used to export a BLESSED model to the serving directory. "
   ]
  },
  {
   "cell_type": "code",
   "execution_count": null,
   "id": "pregnant-heath",
   "metadata": {},
   "outputs": [],
   "source": [
    "serving_model_dir = 'serving_model/advert-pred'\n",
    "\n",
    "pusher = Pusher(\n",
    "    model=trainer.outputs['model'],\n",
    "    model_blessing=evaluator.outputs['blessing'],\n",
    "    push_destination=pusher_pb2.PushDestination(\n",
    "        filesystem=pusher_pb2.PushDestination.Filesystem(\n",
    "            base_directory=serving_model_dir)))\n",
    "context.run(pusher)"
   ]
  },
  {
   "cell_type": "markdown",
   "id": "lovely-chosen",
   "metadata": {},
   "source": [
    "## SET UP KUBEFLOW PIPELINE\n"
   ]
  },
  {
   "cell_type": "code",
   "execution_count": null,
   "id": "racial-product",
   "metadata": {},
   "outputs": [],
   "source": [
    "!gsutil cp data/advertising.csv gs://{GOOGLE_CLOUD_PROJECT}-kubeflowpipelines-default/advert-pred/data/advertising.csv"
   ]
  },
  {
   "cell_type": "code",
   "execution_count": null,
   "id": "cellular-roulette",
   "metadata": {},
   "outputs": [],
   "source": [
    "PIPELINE_NAME = 'adclicked_pipeline'"
   ]
  },
  {
   "cell_type": "code",
   "execution_count": null,
   "id": "failing-hours",
   "metadata": {},
   "outputs": [],
   "source": [
    "!tfx pipeline create  \\\n",
    "--pipeline-path=kubeflow_dag_runner.py \\\n",
    "--endpoint={ENDPOINT} \\\n",
    "--build-target-image={CUSTOM_TFX_IMAGE}"
   ]
  },
  {
   "cell_type": "code",
   "execution_count": null,
   "id": "comparable-practitioner",
   "metadata": {},
   "outputs": [],
   "source": [
    "!tfx run create --pipeline-name={PIPELINE_NAME} --endpoint={ENDPOINT}"
   ]
  },
  {
   "cell_type": "markdown",
   "id": "southwest-violence",
   "metadata": {},
   "source": [
    "If you make an update to your pipeline, you can easily update and run it using the code below:"
   ]
  },
  {
   "cell_type": "code",
   "execution_count": null,
   "id": "constant-azerbaijan",
   "metadata": {},
   "outputs": [],
   "source": [
    "!tfx pipeline update \\\n",
    "--pipeline-path=kubeflow_dag_runner.py \\\n",
    "--endpoint={ENDPOINT}\n",
    "!tfx run create --pipeline-name {PIPELINE_NAME} --endpoint={ENDPOINT}"
   ]
  }
 ],
 "metadata": {
  "environment": {
   "name": "tf2-gpu.2-3.mnightly-2021-01-20-debian-10-test",
   "type": "gcloud",
   "uri": "gcr.io/deeplearning-platform-release/tf2-gpu.2-3:mnightly-2021-01-20-debian-10-test"
  },
  "kernelspec": {
   "display_name": "Python 3",
   "language": "python",
   "name": "python3"
  },
  "language_info": {
   "codemirror_mode": {
    "name": "ipython",
    "version": 3
   },
   "file_extension": ".py",
   "mimetype": "text/x-python",
   "name": "python",
   "nbconvert_exporter": "python",
   "pygments_lexer": "ipython3",
   "version": "3.7.9"
  }
 },
 "nbformat": 4,
 "nbformat_minor": 5
}
